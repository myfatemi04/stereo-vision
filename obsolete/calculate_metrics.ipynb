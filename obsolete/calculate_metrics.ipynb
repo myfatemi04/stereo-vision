{
 "cells": [
  {
   "cell_type": "code",
   "execution_count": 3,
   "metadata": {},
   "outputs": [
    {
     "name": "stdout",
     "output_type": "stream",
     "text": [
      "Noted frame: 42\n",
      "Noted frame: 79\n",
      "Precision: 0.7586206896551724\n",
      "Recall: 0.9565217391304348\n"
     ]
    }
   ],
   "source": [
    "indices = [25, 131, 156, 179, 195, 212, 284, 346, 384, 491, 582, 675, 679, 836, 863, 876, 927, 961, 1019, 1085, 1131, 1142, 1148, 1196, 1244, 1388, 1470, 1498, 1635, 1695, 1730, 1731, 1807, 1896, 2047, 2099, 2126, 2188, 2348, 2373, 2452, 2458, 2542, 2559, 2747, 2752, 2833, 2837, 2841, 2871, 2916, 2960, 2975, 3060, 3181, 3195, 3208, 3221, 3396, 3422, 3454, 3588, 3649, 3658, 3659, 3662, 3678, 3756, 3787, 3858, 3869, 3877, 3896, 3918, 3921, 3922, 3957, 4059, 4061, 4280, 4337, 4346, 4404, 4422, 4452, 4542, 4543, 4573, 4605, 4614, 4620, 4654, 4665, 4705, 4743, 4769, 4795, 4809, 4943, 5048]\n",
    "results = ['tn', 'fn', 'tp', 'tp', 'tp', 'tp', 'tp', 'tp', 'tp', 'tp', 'tp fp', 'tp fp', 'tp fp', 'tp', 'tp', 'tp', 'tp', 'tp', 'tn', 'tn', 'tn', 'tn', 'tn', 'tn', 'tn', 'tn', 'fp', 'fp', 'tn', 'tn', 'tn', 'tn', 'tn', 'tn', 'tp', 'tp', 'tp', 'tp', 'tp fp', 'tp fp fp', 'tp', 'tp', '--', 'tn', 'tn', 'tn', 'tn', 'tn', 'tn', 'tn', 'tn', 'tn', 'tn', 'fp', 'tn', 'tn', 'tn', 'tn', 'tn', 'tn', 'tp', 'tn', 'tp', 'tp', 'tp', 'tp', 'tp', 'fp', 'fp', 'tn', 'tn', 'tn', 'fn', 'tp', 'tp', 'tp', 'tp', 'tp', 'tp', '--', 'tp fp', 'tp fp', 'tp fp', 'tp', 'tp', 'tp', 'tp', 'tp', 'tn', 'tn', 'tn', 'tn', 'tn', 'tn', 'tn', 'tn', 'tn', 'tn', 'tn', 'tn']\n",
    "\n",
    "# Fix something I mislabeled\n",
    "# for i in range(len(indices)):\n",
    "#     if indices[i] == 1470:\n",
    "#         print(i)\n",
    "#         results[i] = 'fp'\n",
    "\n",
    "tp = 0\n",
    "fp = 0\n",
    "tn = 0\n",
    "fn = 0\n",
    "\n",
    "for i, result in enumerate(results):\n",
    "    if result == '--':\n",
    "        print(\"Noted frame:\", i)\n",
    "        continue\n",
    "    \n",
    "    tp += result.count('tp')\n",
    "    fp += result.count('fp')\n",
    "    tn += result.count('tn')\n",
    "    fn += result.count('fn')\n",
    "\n",
    "precision = tp / (tp + fp)\n",
    "recall = tp / (tp + fn)\n",
    "\n",
    "print(\"Precision:\", precision)\n",
    "print(\"Recall:\", recall)\n"
   ]
  }
 ],
 "metadata": {
  "kernelspec": {
   "display_name": "env",
   "language": "python",
   "name": "python3"
  },
  "language_info": {
   "codemirror_mode": {
    "name": "ipython",
    "version": 3
   },
   "file_extension": ".py",
   "mimetype": "text/x-python",
   "name": "python",
   "nbconvert_exporter": "python",
   "pygments_lexer": "ipython3",
   "version": "3.8.10"
  }
 },
 "nbformat": 4,
 "nbformat_minor": 2
}
